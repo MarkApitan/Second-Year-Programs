{
 "cells": [
  {
   "cell_type": "markdown",
   "metadata": {},
   "source": [
    "# Data Structure and Algorithm Lab Activity 2: Loop Statements \n",
    "### Programmed by: Mark Justine L. Apitan, BSCPE 2-3\n",
    "\n",
    "## Lab 2 Exercise 1\n",
    "#### A teacher named Mrs. Rivera who loved making math fun for her students. One day, a student named Mia asked how to calculate powers, like (2^7). Mrs. Rivera explained, “Imagine you need to multiply 2 by itself seven times. We can solve this using a python code utilizing  special method called recursion to solve this,” \n",
    "### Can you help the class of Mrs. Rivera by providing the recursive method to calculate powers?"
   ]
  },
  {
   "cell_type": "code",
   "execution_count": null,
   "metadata": {},
   "outputs": [],
   "source": [
    "def calculate_powers(base, exponent):\n",
    "    if exponent == 0:\n",
    "        return 1\n",
    "    else:\n",
    "        return base * calculate_powers(base, exponent - 1)\n",
    "\n",
    "invalid = True\n",
    "while invalid:\n",
    "    try:\n",
    "        base = float(input(\"Enter a number to raise to a power: \"))\n",
    "        exponent = int(input(\"Enter the exponent: \"))\n",
    "        invalid =False\n",
    "    except ValueError:\n",
    "        print(\"Invalid Input. Please Enter a Number\")\n",
    "\n",
    "print(calculate_powers(base,exponent))"
   ]
  },
  {
   "cell_type": "markdown",
   "metadata": {},
   "source": [
    "## Lab 2 Exercise 2\n",
    "#### Compute for the cube of integers. "
   ]
  },
  {
   "cell_type": "code",
   "execution_count": null,
   "metadata": {},
   "outputs": [],
   "source": [
    "is_on = True\n",
    "while is_on:\n",
    "    try:\n",
    "        size = int(input(\"Enter the size of the array: \"))\n",
    "        elements = input(\"Enter the elements of the array: \").split()\n",
    "        \n",
    "        if size != len(elements):\n",
    "            print(\"Size doesn't match the number of elements.\")\n",
    "        else:\n",
    "            for element in elements:\n",
    "                print(int(element) ** 3)\n",
    "            is_on = False  # Exit the loop when input is valid\n",
    "    except ValueError:\n",
    "        print(\"Invalid Input. Please enter a valid number.\")"
   ]
  },
  {
   "cell_type": "markdown",
   "metadata": {},
   "source": [
    "## Lab 2 Exercise 3\n",
    "#### Generate a hollow square based on the + integer input side length n."
   ]
  },
  {
   "cell_type": "code",
   "execution_count": null,
   "metadata": {},
   "outputs": [],
   "source": [
    "def create_square(length):\n",
    "    for i in range (length):\n",
    "        if i == 0 or i == length -1:\n",
    "            print ((\"*\") * length)\n",
    "        else:\n",
    "            print((\"*\") + (\" \")* (length - 2) + (\"*\"))\n",
    "\n",
    "is_on =  True\n",
    "while is_on:\n",
    "    try:\n",
    "        length = int(input(\"Enter the side length of the square: \"))\n",
    "        create_square(length)\n",
    "        is_on = False\n",
    "    except ValueError:\n",
    "        print(\"Invalid Input. Please enter a valid number.\")"
   ]
  },
  {
   "cell_type": "markdown",
   "metadata": {},
   "source": [
    "### Lab 2 Exercise 4\n",
    "#### Generate an inverted right triangle of height n."
   ]
  },
  {
   "cell_type": "code",
   "execution_count": null,
   "metadata": {},
   "outputs": [],
   "source": [
    "def draw_inverted_triangle(height):\n",
    "    for i in range(height, 0, -1):\n",
    "        print(\"*\" * i)\n",
    "\n",
    "is_on = True\n",
    "while is_on:\n",
    "    try:\n",
    "        height = int(input(\"Enter the height of the triangle: \"))\n",
    "        if height > 0:\n",
    "            draw_inverted_triangle(height)\n",
    "            is_on = False\n",
    "        else:\n",
    "            print(\"Please enter a positive integer.\")\n",
    "    except ValueError:\n",
    "        print(\"Invalid input. Please enter a valid integer.\")"
   ]
  }
 ],
 "metadata": {
  "kernelspec": {
   "display_name": "Python 3",
   "language": "python",
   "name": "python3"
  },
  "language_info": {
   "name": "python",
   "version": "3.12.4"
  }
 },
 "nbformat": 4,
 "nbformat_minor": 2
}
